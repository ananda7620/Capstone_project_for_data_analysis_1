{
  "nbformat": 4,
  "nbformat_minor": 0,
  "metadata": {
    "colab": {
      "private_outputs": true,
      "provenance": [],
      "collapsed_sections": [
        "gIfDvo9L0UH2"
      ],
      "include_colab_link": true
    },
    "kernelspec": {
      "name": "python3",
      "display_name": "Python 3"
    },
    "language_info": {
      "name": "python"
    }
  },
  "cells": [
    {
      "cell_type": "markdown",
      "metadata": {
        "id": "view-in-github",
        "colab_type": "text"
      },
      "source": [
        "<a href=\"https://colab.research.google.com/github/ananda7620/Capstone_project_for_data_analysis_1/blob/main/Airbnb_Data_Analysis.ipynb\" target=\"_parent\"><img src=\"https://colab.research.google.com/assets/colab-badge.svg\" alt=\"Open In Colab\"/></a>"
      ]
    },
    {
      "cell_type": "markdown",
      "source": [
        "# **Project Name**    - **Airbnb Data Analysis**\n",
        "\n"
      ],
      "metadata": {
        "id": "vncDsAP0Gaoa"
      }
    },
    {
      "cell_type": "markdown",
      "source": [
        "##### **Project Type**    - EDA(Exploratory Data Analysis)\n",
        "##### **Contribution**    - Individual\n",
        "##### **Name** - Ananda Anuse"
      ],
      "metadata": {
        "id": "beRrZCGUAJYm"
      }
    },
    {
      "cell_type": "markdown",
      "source": [
        "# **Project Summary -**"
      ],
      "metadata": {
        "id": "FJNUwmbgGyua"
      }
    },
    {
      "cell_type": "markdown",
      "source": [
        "#####Since 2008, guests and hosts have used Airbnb to expand on travelling possibilities and present a more unique, personalised way of experiencing the world. Today, Airbnb became one of a kind service that is used and recognized by the whole world. Data analysis on millions of listings provided through Airbnb is a crucial factor for the company. These millions of listings generate a lot of data - data that can be analysed and used for security, business decisions, understanding of customers' and providers' (hosts) behaviour and performance on the platform, guiding marketing initiatives, implementation of innovative additional services and much more. This dataset has around 49,000 observations in it with 16 columns and it is a mix of categorical and numeric values. Explore and analyse the data to discover key understandings.\n",
        "######The Airbnb NYC 2019 dataset contains 48,895 listings with 16 columns, providing detailed information about each listing. The average price per night is $152.72, with a wide range from 0 to 10,000. Listings have an average minimum stay requirement of 7.03 nights. The most common room type is Entire home/apt, making up 51.96% of the listings, followed by Private room at 45.66%, and Shared room at 2.37%.\n",
        "\n",
        "#####Manhattan has the highest average price per night at 196.88, while the Bronx has the lowest at 87.50. Brooklyn and Queens have average prices of 124.38 and 99.52, respectively. Staten Island's average price is 114.81. Listings in the Bronx have the highest average availability at 165.76 days per year, while Brooklyn has the lowest at 100.23 days."
      ],
      "metadata": {
        "id": "F6v_1wHtG2nS"
      }
    },
    {
      "cell_type": "markdown",
      "source": [
        "# **GitHub Link -**"
      ],
      "metadata": {
        "id": "w6K7xa23Elo4"
      }
    },
    {
      "cell_type": "markdown",
      "source": [
        "##### GitHub Link :- https://github.com/ananda7620/Capstone_project_for_data_analysis_1"
      ],
      "metadata": {
        "id": "h1o69JH3Eqqn"
      }
    },
    {
      "cell_type": "markdown",
      "source": [
        "# **Problem Statement**\n"
      ],
      "metadata": {
        "id": "yQaldy8SH6Dl"
      }
    },
    {
      "cell_type": "markdown",
      "source": [
        "Analyse The Airbnb Data by using the various analysis tools and get the insights from the data."
      ],
      "metadata": {
        "id": "DpeJGUA3kjGy"
      }
    },
    {
      "cell_type": "markdown",
      "source": [
        "#### **Define Your Business Objective?**"
      ],
      "metadata": {
        "id": "PH-0ReGfmX4f"
      }
    },
    {
      "cell_type": "markdown",
      "source": [
        "To get the insights from the data that will help to make the right decision in the business.also find the insights which will helps to customers to get the right decisions."
      ],
      "metadata": {
        "id": "PhDvGCAqmjP1"
      }
    },
    {
      "cell_type": "markdown",
      "source": [
        "# ***Let's Begin !***"
      ],
      "metadata": {
        "id": "O_i_v8NEhb9l"
      }
    },
    {
      "cell_type": "markdown",
      "source": [
        "## ***1. Know Your Data***"
      ],
      "metadata": {
        "id": "HhfV-JJviCcP"
      }
    },
    {
      "cell_type": "markdown",
      "source": [
        "### Import Libraries"
      ],
      "metadata": {
        "id": "Y3lxredqlCYt"
      }
    },
    {
      "cell_type": "code",
      "source": [
        "# Import Libraries\n",
        "import pandas as pd\n",
        "import numpy as np\n",
        "import matplotlib.pyplot as plt\n",
        "import seaborn as sns\n",
        "import warnings\n",
        "warnings.filterwarnings('ignore')"
      ],
      "metadata": {
        "id": "M8Vqi-pPk-HR"
      },
      "execution_count": null,
      "outputs": []
    },
    {
      "cell_type": "markdown",
      "source": [
        "### Dataset Loading"
      ],
      "metadata": {
        "id": "3RnN4peoiCZX"
      }
    },
    {
      "cell_type": "code",
      "source": [
        "# Load Dataset\n",
        "from google.colab import drive\n",
        "drive.mount('/content/drive')\n"
      ],
      "metadata": {
        "id": "4CkvbW_SlZ_R"
      },
      "execution_count": null,
      "outputs": []
    },
    {
      "cell_type": "code",
      "source": [
        "path = '/content/drive/MyDrive/EDA projects/Copy of Airbnb NYC 2019.csv'\n",
        "airbnb_df = pd.read_csv(path)"
      ],
      "metadata": {
        "id": "YoBucU_BRN5L"
      },
      "execution_count": null,
      "outputs": []
    },
    {
      "cell_type": "markdown",
      "source": [
        "### Dataset First View"
      ],
      "metadata": {
        "id": "x71ZqKXriCWQ"
      }
    },
    {
      "cell_type": "code",
      "source": [
        "# Dataset First Look\n",
        "airbnb_df.head()"
      ],
      "metadata": {
        "id": "LWNFOSvLl09H"
      },
      "execution_count": null,
      "outputs": []
    },
    {
      "cell_type": "markdown",
      "source": [
        "### Dataset Rows & Columns count"
      ],
      "metadata": {
        "id": "7hBIi_osiCS2"
      }
    },
    {
      "cell_type": "code",
      "source": [
        "# Dataset Rows & Columns count\n",
        "a=airbnb_df.shape\n",
        "print('Rows:',a[0])\n",
        "print('Columns:',a[1])"
      ],
      "metadata": {
        "id": "Kllu7SJgmLij"
      },
      "execution_count": null,
      "outputs": []
    },
    {
      "cell_type": "markdown",
      "source": [
        "### Dataset Information"
      ],
      "metadata": {
        "id": "JlHwYmJAmNHm"
      }
    },
    {
      "cell_type": "code",
      "source": [
        "# Dataset Info\n",
        "airbnb_df.info()"
      ],
      "metadata": {
        "id": "e9hRXRi6meOf"
      },
      "execution_count": null,
      "outputs": []
    },
    {
      "cell_type": "markdown",
      "source": [
        "#### Duplicate Values"
      ],
      "metadata": {
        "id": "35m5QtbWiB9F"
      }
    },
    {
      "cell_type": "code",
      "source": [
        "# Dataset Duplicate Value Count\n",
        "airbnb_df.duplicated().sum()"
      ],
      "metadata": {
        "id": "1sLdpKYkmox0"
      },
      "execution_count": null,
      "outputs": []
    },
    {
      "cell_type": "markdown",
      "source": [
        "#### Missing Values/Null Values"
      ],
      "metadata": {
        "id": "PoPl-ycgm1ru"
      }
    },
    {
      "cell_type": "code",
      "source": [
        "# Missing Values/Null Values Count\n",
        "airbnb_df.isnull().sum()\n"
      ],
      "metadata": {
        "id": "GgHWkxvamxVg"
      },
      "execution_count": null,
      "outputs": []
    },
    {
      "cell_type": "code",
      "source": [
        "# Visualizing the missing values\n",
        "sns.heatmap(airbnb_df.isnull())"
      ],
      "metadata": {
        "id": "3q5wnI3om9sJ"
      },
      "execution_count": null,
      "outputs": []
    },
    {
      "cell_type": "markdown",
      "source": [
        "### What did you know about your dataset?"
      ],
      "metadata": {
        "id": "H0kj-8xxnORC"
      }
    },
    {
      "cell_type": "markdown",
      "source": [
        "#####1) There are 48895 rows and 16 columns.\n",
        "#####2)There is no duplicate rows in this dataset.\n",
        "#####3)The columns name 'last_review' and 'reviews_per_month' has the highest number of null values.\n"
      ],
      "metadata": {
        "id": "gfoNAAC-nUe_"
      }
    },
    {
      "cell_type": "markdown",
      "source": [
        "## ***2. Understanding Your Variables***"
      ],
      "metadata": {
        "id": "nA9Y7ga8ng1Z"
      }
    },
    {
      "cell_type": "code",
      "source": [
        "# Dataset Columns\n",
        "airbnb_df.columns"
      ],
      "metadata": {
        "id": "j7xfkqrt5Ag5"
      },
      "execution_count": null,
      "outputs": []
    },
    {
      "cell_type": "code",
      "source": [
        "# Dataset Describe\n",
        "airbnb_df.describe(include = 'all')"
      ],
      "metadata": {
        "id": "DnOaZdaE5Q5t"
      },
      "execution_count": null,
      "outputs": []
    },
    {
      "cell_type": "markdown",
      "source": [
        "### Variables Description"
      ],
      "metadata": {
        "id": "PBTbrJXOngz2"
      }
    },
    {
      "cell_type": "markdown",
      "source": [
        "* **id** :- Unique id\n",
        "* **name** :- Name of listings\n",
        "* **host_id** :- Unique host_id\n",
        "* **host_name** :- Name of the host\n",
        "* **neighbourhood_group** :- Location of hosts\n",
        "* **neighbourhood** :- Perticuler area of location\n",
        "* **latitude** :- Latitude range\n",
        "* **longitude** :- Longitude range\n",
        "* **room_Type** :- Type of listings\n",
        "* **price** :- Price of listings\n",
        "* **minimum_nights** :- Minimum nights to be paid for\n",
        "* **Number_of_reviews** :- Number of reviews from the visitors\n",
        "* **last_review** :- Content of the last review\n",
        "* **reviews_per_month** :-Number of checks per month\n",
        "* **calculated_host_listing_count** :- Total count\n",
        "* **availability_365** :- Availability around the year"
      ],
      "metadata": {
        "id": "V0fWo5a5Uj8W"
      }
    },
    {
      "cell_type": "markdown",
      "source": [
        "### Check Unique Values for each variable."
      ],
      "metadata": {
        "id": "u3PMJOP6ngxN"
      }
    },
    {
      "cell_type": "code",
      "source": [
        "# Check Unique values for the variable neighbourhood_group:\n",
        "print(f'The unique values for the variable neighbourhood_group are {list(airbnb_df[\"neighbourhood_group\"].unique())}')"
      ],
      "metadata": {
        "id": "zms12Yq5n-jE"
      },
      "execution_count": null,
      "outputs": []
    },
    {
      "cell_type": "code",
      "source": [
        "# print the unique values for the variable room_type:\n",
        "print(f'The unique values for the variable room_type are {list(airbnb_df[\"room_type\"].unique())}')"
      ],
      "metadata": {
        "id": "HCnCOG55WO5f"
      },
      "execution_count": null,
      "outputs": []
    },
    {
      "cell_type": "markdown",
      "source": [
        "## 3. ***Data Wrangling***"
      ],
      "metadata": {
        "id": "dauF4eBmngu3"
      }
    },
    {
      "cell_type": "markdown",
      "source": [
        "### Data Wrangling Code"
      ],
      "metadata": {
        "id": "bKJF3rekwFvQ"
      }
    },
    {
      "cell_type": "code",
      "source": [
        "# Write your code to make your dataset analysis ready.\n",
        "df = airbnb_df.copy()"
      ],
      "metadata": {
        "id": "wk-9a2fpoLcV"
      },
      "execution_count": null,
      "outputs": []
    },
    {
      "cell_type": "code",
      "source": [
        "# Remove the rows from the dataset which has 0 in the variable availability_365:\n",
        "df = df[df['availability_365'] != 0]"
      ],
      "metadata": {
        "id": "hrV0hyciWojS"
      },
      "execution_count": null,
      "outputs": []
    },
    {
      "cell_type": "code",
      "source": [
        "# Replace the NaN value of the reviews_per_month in terms of 0.\n",
        "df['reviews_per_month'] = df['reviews_per_month'].fillna(0)"
      ],
      "metadata": {
        "id": "hWdb5e2LW5fq"
      },
      "execution_count": null,
      "outputs": []
    },
    {
      "cell_type": "code",
      "source": [
        "# Create new table for neighbourhood_group with avg_reviews_per_month,avg_price,total_host_count,avg_room_availability_in_year,avg_minimum_nights.\n",
        "new_df = pd.DataFrame(df.groupby(['neighbourhood_group'])['reviews_per_month'].mean().sort_values(ascending = False)).rename(columns = {'reviews_per_month':'Avg_reviews_per_month'})\n",
        "new_df['avg_price']=df.groupby(['neighbourhood_group'])['price'].mean().sort_values(ascending = False)\n",
        "new_df['total_host_count']=df.groupby(['neighbourhood_group'])['host_id'].count().sort_values(ascending = False)\n",
        "new_df['avg_room_availability_in_year']=df.groupby('neighbourhood_group')['availability_365'].mean().sort_values(ascending = False)\n",
        "new_df['avg_minimum_nights']=df.groupby('neighbourhood_group')['minimum_nights'].mean()\n",
        "new_df['total_number_of_reviews'] = df.groupby('neighbourhood_group')['number_of_reviews'].sum().sort_values(ascending = False)\n",
        "neighbourhood_group_df=new_df.reset_index()\n",
        "neighbourhood_group_df"
      ],
      "metadata": {
        "id": "hsGxHBtIXdfb"
      },
      "execution_count": null,
      "outputs": []
    },
    {
      "cell_type": "markdown",
      "source": [
        "#####1) Queens has the highest number of the reviews per month.\n",
        "#####2) Manhattan is the highest avg_price neighbourhood and Queens and Bronx are lowes avg_price neighbourhood_groups.\n",
        "#####3) Manhattan has the highest total host count and Staten Island has lowest.\n",
        "#####4) Staten Island has the highest room avilability in the year which is 215 days.\n",
        "#####5) Manhattan is the neighbourhood_group where people prefer to spend avg_minimum 10 nights.\n",
        "#####6) Manhattan is the most visited neighbourhood_group through airbnb portal. also it has highest number of"
      ],
      "metadata": {
        "id": "5d89fbeNXv90"
      }
    },
    {
      "cell_type": "code",
      "source": [
        "# create new room_type_df with avg_price,avg_room_availability_for_year,avg_reviews_per_month,total_number_of_reviews,avg_minimum_nihgts\n",
        "room_type_df=pd.DataFrame(df.groupby(['room_type'])['price'].mean())\n",
        "room_type_df=room_type_df.rename(columns = {'price':'avg_price'})\n",
        "room_type_df['total_host_count'] = df.groupby(['room_type'])['host_id'].count()\n",
        "room_type_df['avg_room_availability_for_year']=df.groupby(['room_type'])['availability_365'].mean().sort_values(ascending = False)\n",
        "room_type_df['avg_reviews_per_month']=df.groupby('room_type')['reviews_per_month'].mean()\n",
        "room_type_df['total_number_of_reviews']=df.groupby(['room_type'])['number_of_reviews'].sum()\n",
        "room_type_df['avg_minimum_nights']=df.groupby('room_type')['minimum_nights'].mean()\n",
        "room_type_df=room_type_df.reset_index()\n",
        "room_type_df"
      ],
      "metadata": {
        "id": "pFJ1GT0cX9Au"
      },
      "execution_count": null,
      "outputs": []
    },
    {
      "cell_type": "markdown",
      "source": [
        "###### **Insights Found**:"
      ],
      "metadata": {
        "id": "xdRb7XXZbLo7"
      }
    },
    {
      "cell_type": "markdown",
      "source": [
        "######1) Shared rooms has the avg low price and Entire home/apt has the highest avg prices\n",
        "#####2) Shared room are the most available room type for the visitors over the years.\n",
        "#####3) Average reviews per month is higher for the Private rooms.\n",
        "#####4) Total number of reviews are the higher for the Entire home/apt room type.\n",
        "#####5) Average minimum nights are higher for the Entire home/apt and the lower for the Private rooms."
      ],
      "metadata": {
        "id": "iSNyaySrYCoH"
      }
    },
    {
      "cell_type": "code",
      "source": [
        "# what is the relation between neighbourhood group and the room type:\n",
        "df.groupby(['neighbourhood_group','room_type'])['room_type'].count().unstack()"
      ],
      "metadata": {
        "id": "eAQaS9nZYQqn"
      },
      "execution_count": null,
      "outputs": []
    },
    {
      "cell_type": "markdown",
      "source": [
        "###### **Insights Found**:"
      ],
      "metadata": {
        "id": "NNx61FBHbiId"
      }
    },
    {
      "cell_type": "markdown",
      "source": [
        "#####1) Manhattan has the highest number of the Entire home/apt avaliable.\n",
        "#####2) Brooklyn has the highest number of the private room available.\n",
        "#####3) Manhattan has the highest number of the Shared room available."
      ],
      "metadata": {
        "id": "J4i_AH97YTw3"
      }
    },
    {
      "cell_type": "code",
      "source": [
        "# what is the relation between neighbourhood_group and room type interms of the price:\n",
        "df.groupby(['neighbourhood_group','room_type'])['price'].mean().unstack()"
      ],
      "metadata": {
        "id": "CoXrhHSZYec4"
      },
      "execution_count": null,
      "outputs": []
    },
    {
      "cell_type": "markdown",
      "source": [
        "###### **Insights Found**:"
      ],
      "metadata": {
        "id": "j_rV5Bl9bkOW"
      }
    },
    {
      "cell_type": "markdown",
      "source": [
        "#####1)Manhattan is the most expensive neighbourhood_group in terms of all three room types.\n",
        "#####2)In all neighbourhood_groups Entire home/apt are expensive and Sheared rooms are cheap."
      ],
      "metadata": {
        "id": "XVbsrRveYkSp"
      }
    },
    {
      "cell_type": "code",
      "source": [
        "# What is the relation between neighbourhood_group and room_type in terms of number_of_reviews.\n",
        "df.groupby(['neighbourhood_group','room_type'])['number_of_reviews'].sum().unstack()"
      ],
      "metadata": {
        "id": "Dn2QEUliYxVC"
      },
      "execution_count": null,
      "outputs": []
    },
    {
      "cell_type": "markdown",
      "source": [
        "###### **Insights Found**:"
      ],
      "metadata": {
        "id": "pD9WrOXXbmEG"
      }
    },
    {
      "cell_type": "markdown",
      "source": [
        "#####1) Manhattan is the most reviewed neighbourhood_group in the all three format.\n",
        "#####2) In all three room type Entire home/apt is the most reviewed room type."
      ],
      "metadata": {
        "id": "127cWL0cZJB8"
      }
    },
    {
      "cell_type": "code",
      "source": [
        "# What is the relation between neighbourhood_group and room_type in terms of minimum_nights.\n",
        "df.groupby(['neighbourhood_group','room_type'])['minimum_nights'].mean().unstack()"
      ],
      "metadata": {
        "id": "Kynq1OvXZe6r"
      },
      "execution_count": null,
      "outputs": []
    },
    {
      "cell_type": "markdown",
      "source": [
        "###### **Insights Found**:"
      ],
      "metadata": {
        "id": "Ecb7aQN-bnxO"
      }
    },
    {
      "cell_type": "markdown",
      "source": [
        "#####1)Manhattan and Brooklyn are the most prefer visited neighbourhood groups where peope prfer to spend more average visited nights.\n",
        "#####2)In terms of room_type visitors prefer Entire home/apt to stay longer."
      ],
      "metadata": {
        "id": "jD4nIDvJZh8u"
      }
    },
    {
      "cell_type": "code",
      "source": [
        "# find the top 10 neighbourhood that has highest number of the hosts.\n",
        "top_10_neighbourhood_with_number_of_hosts=df.groupby(['neighbourhood','neighbourhood_group'])['host_id'].count().sort_values(ascending = False).reset_index().rename(columns = {'host_id':'Number_of_hosts'}).head(10)\n",
        "top_10_neighbourhood_with_number_of_hosts"
      ],
      "metadata": {
        "id": "vbXZeUv3ag7P"
      },
      "execution_count": null,
      "outputs": []
    },
    {
      "cell_type": "markdown",
      "source": [
        "###### **Insights Found**:"
      ],
      "metadata": {
        "id": "gvaoO6bKbpre"
      }
    },
    {
      "cell_type": "markdown",
      "source": [
        "#####1) Bedford-Stuyvesant from Brooklyn has the highest number of the hosts."
      ],
      "metadata": {
        "id": "cr9_Lgryak9y"
      }
    },
    {
      "cell_type": "markdown",
      "source": [
        "## ***4. Data Vizualization, Storytelling & Experimenting with charts : Understand the relationships between variables***"
      ],
      "metadata": {
        "id": "GF8Ens_Soomf"
      }
    },
    {
      "cell_type": "markdown",
      "source": [
        "#### Chart - 1"
      ],
      "metadata": {
        "id": "0wOQAZs5pc--"
      }
    },
    {
      "cell_type": "code",
      "source": [
        "# Chart - 1 visualization code\n",
        "# Find top 10 host name which has highest number of reviews.\n",
        "top_10_host_name=df.groupby(['host_name'])['number_of_reviews'].sum().sort_values(ascending = False).reset_index().rename(columns = {'number_of_reviews':'Total_reviews'}).head(10)\n",
        "#plot the bar chart to the show the dataset.\n",
        "top_10_host_name.plot(kind = 'bar',x = 'host_name',y = 'Total_reviews',figsize = (10,5),color = 'green')\n",
        "plt.title('Top 10 host name which has highest number of reviews')\n",
        "plt.xlabel('Host name')\n",
        "plt.ylabel('Total reviews')\n",
        "plt.show()\n"
      ],
      "metadata": {
        "id": "7v_ESjsspbW7"
      },
      "execution_count": null,
      "outputs": []
    },
    {
      "cell_type": "markdown",
      "source": [
        "##### 1. Why did you pick the specific chart?"
      ],
      "metadata": {
        "id": "K5QZ13OEpz2H"
      }
    },
    {
      "cell_type": "markdown",
      "source": [
        "#####1)Bar charts are straightforward and easy to interpret. They provide a clear visual comparison of different categories, making it simple to see which category is larger or smaller at a glance.\n",
        "#####2)They are ideal for comparing the magnitude of different groups or categories. The length or height of the bars makes it easy to compare values directly."
      ],
      "metadata": {
        "id": "XESiWehPqBRc"
      }
    },
    {
      "cell_type": "markdown",
      "source": [
        "##### 2. What is/are the insight(s) found from the chart?"
      ],
      "metadata": {
        "id": "lQ7QKXXCp7Bj"
      }
    },
    {
      "cell_type": "markdown",
      "source": [
        "#####1)This bar shows the top 10 hosts name which has the highest number of reviews.\n",
        "#####2)Most of the hosts has more than 5000 number of reviews.\n",
        "#####3)host name Michael has the highest number of reviews which are more than 8000."
      ],
      "metadata": {
        "id": "C_j1G7yiqdRP"
      }
    },
    {
      "cell_type": "markdown",
      "source": [
        "##### 3. Will the gained insights help creating a positive business impact?\n",
        "Are there any insights that lead to negative growth? Justify with specific reason."
      ],
      "metadata": {
        "id": "448CDAPjqfQr"
      }
    },
    {
      "cell_type": "markdown",
      "source": [
        "##### Yes, because this are the hosts which has the highest number of visitors reviews.that means they have created positive customer relations.if we understand the parameters relating to this hosts that would help us to make positive changes in the policy."
      ],
      "metadata": {
        "id": "3cspy4FjqxJW"
      }
    },
    {
      "cell_type": "markdown",
      "source": [
        "#### Chart - 2"
      ],
      "metadata": {
        "id": "KSlN3yHqYklG"
      }
    },
    {
      "cell_type": "code",
      "source": [
        "# Chart - 2 visualization code\n",
        "# find the total number of the hosts from each neighbourhood_groups?\n",
        "total_number_of_hosts=df.groupby(['neighbourhood_group'])['host_id'].count().sort_values(ascending = False).reset_index().rename(columns = {'host_id':'Total_number_of_hosts'})\n",
        "total_number_of_hosts\n",
        "# Create the pie chart to show the neighbourhood_groups interms of total number of hosts.\n",
        "plt.pie(total_number_of_hosts['Total_number_of_hosts'],labels = total_number_of_hosts['neighbourhood_group'],autopct = '%0.2f%%')\n",
        "plt.title('Total percentage of hosts from each neighbourhood_groups')\n",
        "plt.show()"
      ],
      "metadata": {
        "id": "R4YgtaqtYklH"
      },
      "execution_count": null,
      "outputs": []
    },
    {
      "cell_type": "markdown",
      "source": [
        "##### 1. Why did you pick the specific chart?"
      ],
      "metadata": {
        "id": "t6dVpIINYklI"
      }
    },
    {
      "cell_type": "markdown",
      "source": [
        "#####1)Pie charts are excellent for displaying the relative proportions of different categories. Each slice of the pie represents a category's contribution to the whole, making it easy to see which categories dominate and how they compare to each other.\n",
        "#####2)Pie charts are simple and easy to interpret. The visual nature of the chart makes it straightforward to understand at a glance how the whole is divided among its parts.\n"
      ],
      "metadata": {
        "id": "5aaW0BYyYklI"
      }
    },
    {
      "cell_type": "markdown",
      "source": [
        "##### 2. What is/are the insight(s) found from the chart?"
      ],
      "metadata": {
        "id": "ijmpgYnKYklI"
      }
    },
    {
      "cell_type": "markdown",
      "source": [
        "#####1)Manhattan and Brooklyn has more than 75% of hosts grouped.that show the very much concentration of host in this neighbourhood_gruop only.\n",
        "#####2) Other neighbourhood_group has very less precence of hosts."
      ],
      "metadata": {
        "id": "PSx9atu2YklI"
      }
    },
    {
      "cell_type": "markdown",
      "source": [
        "##### 3. Will the gained insights help creating a positive business impact?\n",
        "Are there any insights that lead to negative growth? Justify with specific reason."
      ],
      "metadata": {
        "id": "-JiQyfWJYklI"
      }
    },
    {
      "cell_type": "markdown",
      "source": [
        "#####1)Presence of hosts in the manhattan and brooklyn are high and the other regions have low. To increase business we would have to focus other neighbourhood_groups.\n",
        "#####2) Also we have to analyes the verious parameters relating to the hosts from the manhattan and brooklyn to increase the business into the other neighbourhood_regions."
      ],
      "metadata": {
        "id": "BcBbebzrYklV"
      }
    },
    {
      "cell_type": "markdown",
      "source": [
        "#### Chart - 3"
      ],
      "metadata": {
        "id": "EM7whBJCYoAo"
      }
    },
    {
      "cell_type": "code",
      "source": [
        "# Chart - 3 visualization code\n",
        "# Find out how many hosts have different room types?\n",
        "rt_df=room_type_df[['room_type','total_host_count','total_number_of_reviews']].set_index('room_type')\n",
        "rt_df.plot(kind = 'bar',rot =0,subplots = True,figsize = (10,5))\n",
        "\n",
        "plt.show()"
      ],
      "metadata": {
        "id": "t6GMdE67YoAp"
      },
      "execution_count": null,
      "outputs": []
    },
    {
      "cell_type": "markdown",
      "source": [
        "##### 1. Why did you pick the specific chart?"
      ],
      "metadata": {
        "id": "fge-S5ZAYoAp"
      }
    },
    {
      "cell_type": "markdown",
      "source": [
        "#####1)The bar plot with the subplots show the relation between the different variables for the same index.Here we have to show the relation between total host count and the total number of reviews for the differnt room types.\n",
        "#####2)The subplots are very usefull for the different variables with single index to show the relation between to variables.\n"
      ],
      "metadata": {
        "id": "5dBItgRVYoAp"
      }
    },
    {
      "cell_type": "markdown",
      "source": [
        "##### 2. What is/are the insight(s) found from the chart?"
      ],
      "metadata": {
        "id": "85gYPyotYoAp"
      }
    },
    {
      "cell_type": "markdown",
      "source": [
        "#####1)As we can see in the first subplot the total host counts are higher for the Entire Home/apt and the Private Rooms but it is very small for the Shared room.\n",
        "#####2)Also from the second subplot we can see that the total reviews of the customers are higher for the Entire home/apt and the private rooms but not for the shared rooms."
      ],
      "metadata": {
        "id": "4jstXR6OYoAp"
      }
    },
    {
      "cell_type": "markdown",
      "source": [
        "##### 3. Will the gained insights help creating a positive business impact?\n",
        "Are there any insights that lead to negative growth? Justify with specific reason."
      ],
      "metadata": {
        "id": "RoGjAbkUYoAp"
      }
    },
    {
      "cell_type": "markdown",
      "source": [
        "#####1)Most of the customers prefer the Entire home/apt and the private rooms as compaired to shared rooms.\n",
        "#####2) We can conclude that the customers prefer privacy and the comfertnee more than the price this are the two points we can use for our business growth.\n",
        "\n"
      ],
      "metadata": {
        "id": "kPIkU7VStX8Y"
      }
    },
    {
      "cell_type": "markdown",
      "source": [
        "#### Chart - 4"
      ],
      "metadata": {
        "id": "4Of9eVA-YrdM"
      }
    },
    {
      "cell_type": "code",
      "source": [
        "# Chart - 4 visualization code\n",
        "# plot the box plot for the room_type and the minimum_nights spends:\n",
        "df[['room_type','minimum_nights']].boxplot(by = 'room_type',figsize = (10,5),showfliers=False)\n",
        "plt.suptitle('Boxplot for the room_type and the minimum_nights spends')\n",
        "plt.xlabel('Room type')\n",
        "plt.ylabel('Minimum nights')\n",
        "plt.show()"
      ],
      "metadata": {
        "id": "irlUoxc8YrdO"
      },
      "execution_count": null,
      "outputs": []
    },
    {
      "cell_type": "markdown",
      "source": [
        "##### 1. Why did you pick the specific chart?"
      ],
      "metadata": {
        "id": "iky9q4vBYrdO"
      }
    },
    {
      "cell_type": "markdown",
      "source": [
        "#####1) Here we wanted to find the customers preference for different room types interms of minimum nights spends.\n",
        "#####2) Also box plot will help to get the minimum value,max value,median and the outliers also from the given set of the data.\n"
      ],
      "metadata": {
        "id": "aJRCwT6DYrdO"
      }
    },
    {
      "cell_type": "markdown",
      "source": [
        "##### 2. What is/are the insight(s) found from the chart?"
      ],
      "metadata": {
        "id": "F6T5p64dYrdO"
      }
    },
    {
      "cell_type": "markdown",
      "source": [
        "#####1) We found that in terms of Entire home/apt the maximum limit is 14 and the median is 3.For private rooms the maximum limits is 8 and the median is 2 and for shared rooms the maximum limit is 6 and the median is 1.\n",
        "#####2) We can say that the most of the customers prefer to spend nights in the Entire home/apt and private rooms.and for the short period people prefer to shared rooms."
      ],
      "metadata": {
        "id": "Xx8WAJvtYrdO"
      }
    },
    {
      "cell_type": "markdown",
      "source": [
        "##### 3. Will the gained insights help creating a positive business impact?\n",
        "Are there any insights that lead to negative growth? Justify with specific reason."
      ],
      "metadata": {
        "id": "y-Ehk30pYrdP"
      }
    },
    {
      "cell_type": "markdown",
      "source": [
        "#####1)By using this plot we can understand that customers prefer privacy and comfort when  they decide to spend more nights.\n",
        "#####2) Due to this we can say that to make any decision we should have to consider this factor also."
      ],
      "metadata": {
        "id": "jLNxxz7MYrdP"
      }
    },
    {
      "cell_type": "markdown",
      "source": [
        "# **Conclusion**"
      ],
      "metadata": {
        "id": "gCX9965dhzqZ"
      }
    },
    {
      "cell_type": "markdown",
      "source": [
        "#####1)Manhattan and Brooklyn has more than 90 percent hosts than the other neighbourhood groups.\n",
        "#####2)Also more than 90 percent of the cutormers perfer to visit Manhattan and the Brooklyn for the longer stay and most of the customers perefer to get stay at the Entire home/apt or Private rooms.That means visitors give privacy and the security of the belongings a priority.\n",
        "#####3)The overall mean minimum nights of staying is 7 days.Also average price of staying is 152.\n",
        "#####4)Average availability of rooms for 365 days are higher for the Manhattan and the Brookly as compaired to other neighbouring groups."
      ],
      "metadata": {
        "id": "Fjb1IsQkh3yE"
      }
    },
    {
      "cell_type": "markdown",
      "source": [
        "### ***Hurrah! You have successfully completed your EDA Capstone Project !!!***"
      ],
      "metadata": {
        "id": "gIfDvo9L0UH2"
      }
    }
  ]
}